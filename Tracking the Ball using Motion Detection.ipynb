{
 "cells": [
  {
   "cell_type": "code",
   "execution_count": 6,
   "metadata": {},
   "outputs": [],
   "source": [
    "#inporting the required libraries\n",
    "import numpy as np\n",
    "import cv2 as cv"
   ]
  },
  {
   "cell_type": "code",
   "execution_count": 7,
   "metadata": {},
   "outputs": [],
   "source": [
    "def Make_Mask(hsv, x, y, z):\n",
    "    # Convert the given BGR color to HSV\n",
    "    bgr_color = np.uint8([[[x, y, z]]])\n",
    "    hsv_color = cv.cvtColor(bgr_color, cv.COLOR_BGR2HSV)\n",
    "    \n",
    "    # Define the range for HSV values\n",
    "    low_offset = np.array([7,40,40])\n",
    "    high_offset = np.array([7, 255, 255]) \n",
    "\n",
    "    lower_limit = np.clip(hsv_color[0][0] - low_offset, 0, 255)\n",
    "    upper_limit = np.clip(hsv_color[0][0] + high_offset, 0, 255)\n",
    "\n",
    "    # Threshold the HSV image to get only the required colors\n",
    "    mask = cv.inRange(hsv, lower_limit, upper_limit)\n",
    "\n",
    "    return mask"
   ]
  },
  {
   "cell_type": "code",
   "execution_count": 8,
   "metadata": {},
   "outputs": [],
   "source": [
    "def Countour_Coordinate(contours, frame):\n",
    "    x_avg = 0\n",
    "    y_avg = 0 \n",
    "    font = cv.FONT_HERSHEY_COMPLEX\n",
    "    k = 0\n",
    "    \n",
    "    for cnt in contours:\n",
    "        # Approximate the contour to a polygon\n",
    "        approx = cv.approxPolyDP(cnt, 0.009 * cv.arcLength(cnt, True), True)\n",
    "        \n",
    "        # Draw the contours on the frame\n",
    "        cv.drawContours(frame, [approx], 0, (0, 0, 255), 2) \n",
    "        \n",
    "        # Flatten the array containing the coordinates of the vertices\n",
    "        n = approx.ravel()\n",
    "        \n",
    "        for i in range(0, len(n), 2):\n",
    "            x = n[i]\n",
    "            y = n[i + 1]\n",
    "            \n",
    "            # Check if the coordinate is within the specified range\n",
    "            if 300 < x < 900 and 107 < y < 590:\n",
    "                k += 1\n",
    "                x_avg += x\n",
    "                y_avg += y\n",
    "    \n",
    "    # Calculate the average coordinates if any valid points were found\n",
    "    if k != 0:\n",
    "        x_avg = x_avg / k\n",
    "        y_avg = y_avg / k\n",
    "    \n",
    "    # Display the average coordinates on the frame\n",
    "    coord_string = f\"{int(x_avg)} {int(y_avg)}\"\n",
    "    cv.putText(frame, coord_string, (int(x_avg), int(y_avg)), font, 0.5, (0, 255, 0))\n",
    "\n",
    "    return frame"
   ]
  },
  {
   "cell_type": "code",
   "execution_count": 9,
   "metadata": {},
   "outputs": [
    {
     "name": "stdout",
     "output_type": "stream",
     "text": [
      "(720, 1280, 3)\n"
     ]
    }
   ],
   "source": [
    "# Open the video file\n",
    "cap = cv.VideoCapture('tennisVid.mp4')\n",
    "\n",
    "# Get the frame width and height\n",
    "frame_width = int(cap.get(cv.CAP_PROP_FRAME_WIDTH))\n",
    "frame_height = int(cap.get(cv.CAP_PROP_FRAME_HEIGHT))\n",
    "\n",
    "# Define the codec and create VideoWriter object to save the output video\n",
    "fourcc = cv.VideoWriter_fourcc('X', 'V', 'I', 'D')\n",
    "out = cv.VideoWriter(\"output.mp4\", fourcc, 5.0, (1280, 720))\n",
    "\n",
    "# Read the first frame from the video\n",
    "ret, frame1 = cap.read()\n",
    "if ret:\n",
    "    # Resize the first frame to 1280x720\n",
    "    frame1 = cv.resize(frame1, (1280, 720), interpolation=cv.INTER_CUBIC)\n",
    "else:\n",
    "    print(\"Failed to read the first frame\")\n",
    "    cap.release()\n",
    "    exit()\n",
    "\n",
    "# Read the second frame from the video\n",
    "ret, frame2 = cap.read()\n",
    "if ret:\n",
    "    # Resize the second frame to 1280x720\n",
    "    frame2 = cv.resize(frame2, (1280, 720), interpolation=cv.INTER_CUBIC)\n",
    "else:\n",
    "    print(\"Failed to read the second frame\")\n",
    "    cap.release()\n",
    "    exit()"
   ]
  },
  {
   "cell_type": "code",
   "execution_count": 10,
   "metadata": {},
   "outputs": [],
   "source": [
    "while cap.isOpened():\n",
    "    ret, frame = cap.read()\n",
    "    if not ret or frame is None:\n",
    "        break\n",
    "    \n",
    "    # Calculate the absolute difference between frames\n",
    "    diff = cv.absdiff(frame1, frame2)\n",
    "    gray = cv.cvtColor(diff, cv.COLOR_BGR2GRAY)\n",
    "    blur = cv.GaussianBlur(gray, (5, 5), 0)\n",
    "    _, thresh = cv.threshold(blur, 20, 255, cv.THRESH_BINARY)\n",
    "    dilated = cv.dilate(thresh, None, iterations=3)\n",
    "\n",
    "    # Create a masked image using the dilated threshold\n",
    "    res = cv.bitwise_and(frame1, frame1, mask=dilated)\n",
    "\n",
    "    # Convert to HSV and apply the custom mask function\n",
    "    hsv = cv.cvtColor(res, cv.COLOR_BGR2HSV)\n",
    "    mask = Make_Mask(hsv, 255, 255, 200)\n",
    "\n",
    "    # Find contours and draw them with average coordinates on frame1\n",
    "    contours, _ = cv.findContours(mask, cv.RETR_TREE, cv.CHAIN_APPROX_SIMPLE)\n",
    "    Countour_Coordinate(contours, frame1)\n",
    "\n",
    "    # Resize frame1 for output and write to the video file\n",
    "    image = cv.resize(frame1, (1280, 720))\n",
    "    out.write(image)\n",
    "\n",
    "    # Optionally display the processed frames\n",
    "    dilated_resized = cv.resize(dilated, (1280, 720))\n",
    "    cv.imshow(\"Dilated\", dilated_resized)\n",
    "    cv.imshow(\"Feed\", frame1)\n",
    "\n",
    "    # Prepare for the next iteration\n",
    "    frame1 = frame2\n",
    "    ret, frame2 = cap.read()\n",
    "    if ret:\n",
    "        frame2 = cv.resize(frame2, (1280, 720), interpolation=cv.INTER_CUBIC)\n",
    "    else:\n",
    "        break\n",
    "\n",
    "    # Exit on 'q' key press\n",
    "    if cv.waitKey(30) & 0xFF == ord('q'):\n",
    "        break\n",
    "\n",
    "# Release resources\n",
    "cap.release()\n",
    "out.release()\n",
    "cv.destroyAllWindows()"
   ]
  }
 ],
 "metadata": {
  "kernelspec": {
   "display_name": "Python 3",
   "language": "python",
   "name": "python3"
  },
  "language_info": {
   "codemirror_mode": {
    "name": "ipython",
    "version": 3
   },
   "file_extension": ".py",
   "mimetype": "text/x-python",
   "name": "python",
   "nbconvert_exporter": "python",
   "pygments_lexer": "ipython3",
   "version": "3.10.0"
  },
  "orig_nbformat": 4,
  "vscode": {
   "interpreter": {
    "hash": "c9abfa238bd85efd018caefff1f38d15da3d3ab5be64da7c5414b592d3e63793"
   }
  }
 },
 "nbformat": 4,
 "nbformat_minor": 2
}
